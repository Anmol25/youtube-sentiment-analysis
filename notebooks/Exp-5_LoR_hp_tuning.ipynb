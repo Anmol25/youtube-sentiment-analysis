{
 "cells": [
  {
   "cell_type": "code",
   "execution_count": 1,
   "metadata": {},
   "outputs": [
    {
     "data": {
      "text/html": [
       "<pre style=\"white-space:pre;overflow-x:auto;line-height:normal;font-family:Menlo,'DejaVu Sans Mono',consolas,'Courier New',monospace\">Accessing as Anmol25\n",
       "</pre>\n"
      ],
      "text/plain": [
       "Accessing as Anmol25\n"
      ]
     },
     "metadata": {},
     "output_type": "display_data"
    },
    {
     "data": {
      "text/html": [
       "<pre style=\"white-space:pre;overflow-x:auto;line-height:normal;font-family:Menlo,'DejaVu Sans Mono',consolas,'Courier New',monospace\">Initialized MLflow to track repo <span style=\"color: #008000; text-decoration-color: #008000\">\"Anmol25/youtube-sentiment-analysis\"</span>\n",
       "</pre>\n"
      ],
      "text/plain": [
       "Initialized MLflow to track repo \u001b[32m\"Anmol25/youtube-sentiment-analysis\"\u001b[0m\n"
      ]
     },
     "metadata": {},
     "output_type": "display_data"
    },
    {
     "data": {
      "text/html": [
       "<pre style=\"white-space:pre;overflow-x:auto;line-height:normal;font-family:Menlo,'DejaVu Sans Mono',consolas,'Courier New',monospace\">Repository Anmol25/youtube-sentiment-analysis initialized!\n",
       "</pre>\n"
      ],
      "text/plain": [
       "Repository Anmol25/youtube-sentiment-analysis initialized!\n"
      ]
     },
     "metadata": {},
     "output_type": "display_data"
    }
   ],
   "source": [
    "import dagshub\n",
    "dagshub.init(repo_owner='Anmol25', repo_name='youtube-sentiment-analysis', mlflow=True)\n",
    "\n",
    "import mlflow\n",
    "mlflow.set_tracking_uri(\"https://dagshub.com/Anmol25/youtube-sentiment-analysis.mlflow\")"
   ]
  },
  {
   "cell_type": "code",
   "execution_count": 2,
   "metadata": {},
   "outputs": [],
   "source": [
    "import numpy as np\n",
    "import pandas as pd"
   ]
  },
  {
   "cell_type": "code",
   "execution_count": 3,
   "metadata": {},
   "outputs": [
    {
     "data": {
      "text/html": [
       "<div>\n",
       "<style scoped>\n",
       "    .dataframe tbody tr th:only-of-type {\n",
       "        vertical-align: middle;\n",
       "    }\n",
       "\n",
       "    .dataframe tbody tr th {\n",
       "        vertical-align: top;\n",
       "    }\n",
       "\n",
       "    .dataframe thead th {\n",
       "        text-align: right;\n",
       "    }\n",
       "</style>\n",
       "<table border=\"1\" class=\"dataframe\">\n",
       "  <thead>\n",
       "    <tr style=\"text-align: right;\">\n",
       "      <th></th>\n",
       "      <th>clean_comment</th>\n",
       "      <th>category</th>\n",
       "    </tr>\n",
       "  </thead>\n",
       "  <tbody>\n",
       "    <tr>\n",
       "      <th>0</th>\n",
       "      <td>cant believe modi</td>\n",
       "      <td>0</td>\n",
       "    </tr>\n",
       "    <tr>\n",
       "      <th>1</th>\n",
       "      <td>karachi total blackout</td>\n",
       "      <td>0</td>\n",
       "    </tr>\n",
       "    <tr>\n",
       "      <th>2</th>\n",
       "      <td>couldnt done year modi year increasing unemplo...</td>\n",
       "      <td>0</td>\n",
       "    </tr>\n",
       "    <tr>\n",
       "      <th>3</th>\n",
       "      <td>modi talk world tallest statue talk world larg...</td>\n",
       "      <td>-1</td>\n",
       "    </tr>\n",
       "    <tr>\n",
       "      <th>4</th>\n",
       "      <td>major announcement modi everyone waiting game ...</td>\n",
       "      <td>-1</td>\n",
       "    </tr>\n",
       "  </tbody>\n",
       "</table>\n",
       "</div>"
      ],
      "text/plain": [
       "                                       clean_comment  category\n",
       "0                                  cant believe modi         0\n",
       "1                             karachi total blackout         0\n",
       "2  couldnt done year modi year increasing unemplo...         0\n",
       "3  modi talk world tallest statue talk world larg...        -1\n",
       "4  major announcement modi everyone waiting game ...        -1"
      ]
     },
     "execution_count": 3,
     "metadata": {},
     "output_type": "execute_result"
    }
   ],
   "source": [
    "df = pd.read_csv(\"data/preprocessed/sentiments_preprocessed.csv\")\n",
    "df.head()"
   ]
  },
  {
   "cell_type": "code",
   "execution_count": 4,
   "metadata": {},
   "outputs": [
    {
     "data": {
      "text/plain": [
       "clean_comment    0\n",
       "category         0\n",
       "dtype: int64"
      ]
     },
     "execution_count": 4,
     "metadata": {},
     "output_type": "execute_result"
    }
   ],
   "source": [
    "df.isna().sum()"
   ]
  },
  {
   "cell_type": "code",
   "execution_count": 5,
   "metadata": {},
   "outputs": [
    {
     "data": {
      "text/plain": [
       "<Experiment: artifact_location='mlflow-artifacts:/73cbb7ad86244a1fbdbf498c038a84bf', creation_time=1735124722438, experiment_id='9', last_update_time=1735124722438, lifecycle_stage='active', name='Exp - 5 Logistic Regression Hyperparameter tuning', tags={}>"
      ]
     },
     "execution_count": 5,
     "metadata": {},
     "output_type": "execute_result"
    }
   ],
   "source": [
    "mlflow.set_experiment(\"Exp - 5 Logistic Regression Hyperparameter tuning\")"
   ]
  },
  {
   "cell_type": "code",
   "execution_count": 6,
   "metadata": {},
   "outputs": [],
   "source": [
    "from sklearn.feature_extraction.text import TfidfVectorizer\n",
    "from sklearn.model_selection import train_test_split, cross_val_score\n",
    "from sklearn.metrics import accuracy_score, classification_report, confusion_matrix\n",
    "from mlflow.models.signature import infer_signature\n",
    "from sklearn.linear_model import LogisticRegression\n",
    "import matplotlib.pyplot as plt\n",
    "import seaborn as sns\n",
    "import os"
   ]
  },
  {
   "cell_type": "code",
   "execution_count": 7,
   "metadata": {},
   "outputs": [],
   "source": [
    "import optuna"
   ]
  },
  {
   "cell_type": "code",
   "execution_count": 8,
   "metadata": {},
   "outputs": [],
   "source": [
    "## Remaping outputs\n",
    "df['category'] = df['category'].map({-1: 2, 0: 0, 1: 1})"
   ]
  },
  {
   "cell_type": "code",
   "execution_count": 9,
   "metadata": {},
   "outputs": [],
   "source": [
    "ngram_range = (1, 1)  # Unigram setting\n",
    "max_features = 9000\n",
    "\n",
    "# Vectorization using TF-IDF with 9000 max features\n",
    "vectorizer = TfidfVectorizer(ngram_range=ngram_range, max_features=max_features)\n",
    "\n",
    "X_train, X_test, y_train, y_test = train_test_split(df['clean_comment'], df['category'], test_size=0.2, random_state=42, stratify=df['category'])\n",
    "\n",
    "X_train = vectorizer.fit_transform(X_train)\n",
    "X_test = vectorizer.transform(X_test)"
   ]
  },
  {
   "cell_type": "markdown",
   "metadata": {},
   "source": [
    "### Optuna HP Tuning"
   ]
  },
  {
   "cell_type": "code",
   "execution_count": 12,
   "metadata": {},
   "outputs": [],
   "source": [
    "def objective(trial):\n",
    "    params = {\n",
    "        \"penalty\" : 'l2',\n",
    "        \"max_iter\" : trial.suggest_int(\"max_iter\", 100,1000),\n",
    "        \"C\" : trial.suggest_float(\"C\", 0.01, 10),\n",
    "        \"solver\" : trial.suggest_categorical(\"solver\", [\"lbfgs\",\"newton-cg\",\"sag\",\"saga\"]),\n",
    "        \"class_weight\" : None,\n",
    "        \"n_jobs\" : -1\n",
    "    }\n",
    "\n",
    "    # Define model\n",
    "    model = LogisticRegression(**params)\n",
    "\n",
    "    # score\n",
    "    scores = cross_val_score(model, X_train, y_train, cv=5, scoring=\"accuracy\")\n",
    "\n",
    "    return scores.mean()"
   ]
  },
  {
   "cell_type": "code",
   "execution_count": 13,
   "metadata": {},
   "outputs": [
    {
     "name": "stderr",
     "output_type": "stream",
     "text": [
      "[I 2024-12-25 17:43:24,302] A new study created in memory with name: no-name-fb694836-a29c-4034-82f3-912b3fe2827a\n",
      "[I 2024-12-25 17:43:31,321] Trial 0 finished with value: 0.8759813895493489 and parameters: {'max_iter': 191, 'C': 6.489567088634855, 'solver': 'saga'}. Best is trial 0 with value: 0.8759813895493489.\n",
      "[I 2024-12-25 17:43:44,177] Trial 1 finished with value: 0.8784419596181199 and parameters: {'max_iter': 404, 'C': 3.8912807881962688, 'solver': 'lbfgs'}. Best is trial 1 with value: 0.8784419596181199.\n",
      "[I 2024-12-25 17:43:50,056] Trial 2 finished with value: 0.875480941013436 and parameters: {'max_iter': 338, 'C': 7.013393830152466, 'solver': 'sag'}. Best is trial 1 with value: 0.8784419596181199.\n",
      "[I 2024-12-25 17:43:56,060] Trial 3 finished with value: 0.8756373338305936 and parameters: {'max_iter': 194, 'C': 6.906998425353369, 'solver': 'sag'}. Best is trial 1 with value: 0.8784419596181199.\n",
      "[I 2024-12-25 17:44:01,835] Trial 4 finished with value: 0.874021278886992 and parameters: {'max_iter': 159, 'C': 8.77672200744631, 'solver': 'sag'}. Best is trial 1 with value: 0.8784419596181199.\n",
      "[I 2024-12-25 17:44:07,200] Trial 5 finished with value: 0.8771074071797912 and parameters: {'max_iter': 328, 'C': 5.431679362316406, 'solver': 'newton-cg'}. Best is trial 1 with value: 0.8784419596181199.\n",
      "[I 2024-12-25 17:44:12,943] Trial 6 finished with value: 0.8740421312263781 and parameters: {'max_iter': 678, 'C': 8.758451542348794, 'solver': 'sag'}. Best is trial 1 with value: 0.8784419596181199.\n",
      "[I 2024-12-25 17:44:20,115] Trial 7 finished with value: 0.8744800276358585 and parameters: {'max_iter': 239, 'C': 8.36808388732752, 'solver': 'saga'}. Best is trial 1 with value: 0.8784419596181199.\n",
      "[I 2024-12-25 17:44:31,831] Trial 8 finished with value: 0.8754496546232435 and parameters: {'max_iter': 842, 'C': 9.309595733102647, 'solver': 'lbfgs'}. Best is trial 1 with value: 0.8784419596181199.\n",
      "[I 2024-12-25 17:44:36,591] Trial 9 finished with value: 0.8776808549375446 and parameters: {'max_iter': 461, 'C': 3.8357996169206388, 'solver': 'saga'}. Best is trial 1 with value: 0.8784419596181199.\n",
      "[I 2024-12-25 17:44:41,080] Trial 10 finished with value: 0.834756558082478 and parameters: {'max_iter': 692, 'C': 0.24240151071871452, 'solver': 'lbfgs'}. Best is trial 1 with value: 0.8784419596181199.\n",
      "[I 2024-12-25 17:44:45,082] Trial 11 finished with value: 0.877420205858708 and parameters: {'max_iter': 495, 'C': 2.8494053291202333, 'solver': 'saga'}. Best is trial 1 with value: 0.8784419596181199.\n",
      "[I 2024-12-25 17:44:52,839] Trial 12 finished with value: 0.8780874709356082 and parameters: {'max_iter': 488, 'C': 3.1665187044344205, 'solver': 'lbfgs'}. Best is trial 1 with value: 0.8784419596181199.\n",
      "[I 2024-12-25 17:45:00,289] Trial 13 finished with value: 0.8768154923647147 and parameters: {'max_iter': 616, 'C': 2.0484065625355994, 'solver': 'lbfgs'}. Best is trial 1 with value: 0.8784419596181199.\n",
      "[I 2024-12-25 17:45:09,409] Trial 14 finished with value: 0.8783689783326067 and parameters: {'max_iter': 422, 'C': 4.087029911061438, 'solver': 'lbfgs'}. Best is trial 1 with value: 0.8784419596181199.\n",
      "[I 2024-12-25 17:45:18,233] Trial 15 finished with value: 0.8784628184798068 and parameters: {'max_iter': 345, 'C': 4.364582168694984, 'solver': 'lbfgs'}. Best is trial 15 with value: 0.8784628184798068.\n",
      "[I 2024-12-25 17:45:20,468] Trial 16 finished with value: 0.8720507635241825 and parameters: {'max_iter': 314, 'C': 1.3238466566315026, 'solver': 'newton-cg'}. Best is trial 15 with value: 0.8784628184798068.\n",
      "[I 2024-12-25 17:45:29,039] Trial 17 finished with value: 0.8785149376424828 and parameters: {'max_iter': 963, 'C': 5.106300072745224, 'solver': 'lbfgs'}. Best is trial 17 with value: 0.8785149376424828.\n",
      "[I 2024-12-25 17:45:38,224] Trial 18 finished with value: 0.8782647155486266 and parameters: {'max_iter': 978, 'C': 5.501749106390682, 'solver': 'lbfgs'}. Best is trial 17 with value: 0.8785149376424828.\n",
      "[I 2024-12-25 17:45:46,992] Trial 19 finished with value: 0.8785149360119077 and parameters: {'max_iter': 987, 'C': 4.831763664443592, 'solver': 'lbfgs'}. Best is trial 17 with value: 0.8785149376424828.\n",
      "[I 2024-12-25 17:45:50,389] Trial 20 finished with value: 0.8763984325323932 and parameters: {'max_iter': 979, 'C': 5.96735145071258, 'solver': 'newton-cg'}. Best is trial 17 with value: 0.8785149376424828.\n",
      "[I 2024-12-25 17:45:59,486] Trial 21 finished with value: 0.8785357965041696 and parameters: {'max_iter': 875, 'C': 4.6742178117396245, 'solver': 'lbfgs'}. Best is trial 21 with value: 0.8785357965041696.\n",
      "[I 2024-12-25 17:46:08,535] Trial 22 finished with value: 0.8784732345942861 and parameters: {'max_iter': 871, 'C': 4.769862357182588, 'solver': 'lbfgs'}. Best is trial 21 with value: 0.8785357965041696.\n",
      "[I 2024-12-25 17:46:19,010] Trial 23 finished with value: 0.8761377758442054 and parameters: {'max_iter': 855, 'C': 7.6098273088591615, 'solver': 'lbfgs'}. Best is trial 21 with value: 0.8785357965041696.\n",
      "[I 2024-12-25 17:46:27,895] Trial 24 finished with value: 0.8785253733238646 and parameters: {'max_iter': 782, 'C': 5.180934481615685, 'solver': 'lbfgs'}. Best is trial 21 with value: 0.8785357965041696.\n",
      "[I 2024-12-25 17:46:37,466] Trial 25 finished with value: 0.8779519288272615 and parameters: {'max_iter': 792, 'C': 5.94527438961029, 'solver': 'lbfgs'}. Best is trial 21 with value: 0.8785357965041696.\n",
      "[I 2024-12-25 17:46:46,559] Trial 26 finished with value: 0.8771282557145016 and parameters: {'max_iter': 750, 'C': 7.708134316202965, 'solver': 'lbfgs'}. Best is trial 21 with value: 0.8785357965041696.\n",
      "[I 2024-12-25 17:46:54,979] Trial 27 finished with value: 0.8781500290408164 and parameters: {'max_iter': 595, 'C': 3.1986330639686917, 'solver': 'lbfgs'}. Best is trial 21 with value: 0.8785357965041696.\n",
      "[I 2024-12-25 17:46:57,541] Trial 28 finished with value: 0.8765548394812026 and parameters: {'max_iter': 892, 'C': 2.1743913951511065, 'solver': 'newton-cg'}. Best is trial 21 with value: 0.8785357965041696.\n",
      "[I 2024-12-25 17:47:04,005] Trial 29 finished with value: 0.8763150231748492 and parameters: {'max_iter': 922, 'C': 6.103098911596177, 'solver': 'saga'}. Best is trial 21 with value: 0.8785357965041696.\n",
      "[I 2024-12-25 17:47:12,723] Trial 30 finished with value: 0.8782751316631059 and parameters: {'max_iter': 781, 'C': 5.1186913590314616, 'solver': 'lbfgs'}. Best is trial 21 with value: 0.8785357965041696.\n",
      "[I 2024-12-25 17:47:21,194] Trial 31 finished with value: 0.8782959861765921 and parameters: {'max_iter': 998, 'C': 4.694781867069156, 'solver': 'lbfgs'}. Best is trial 21 with value: 0.8785357965041696.\n",
      "[I 2024-12-25 17:47:29,544] Trial 32 finished with value: 0.878170887358978 and parameters: {'max_iter': 934, 'C': 3.5856714926265028, 'solver': 'lbfgs'}. Best is trial 21 with value: 0.8785357965041696.\n",
      "[I 2024-12-25 17:47:37,498] Trial 33 finished with value: 0.8786504889907556 and parameters: {'max_iter': 814, 'C': 5.102644762929305, 'solver': 'lbfgs'}. Best is trial 33 with value: 0.8786504889907556.\n",
      "[I 2024-12-25 17:47:45,858] Trial 34 finished with value: 0.8772533909482956 and parameters: {'max_iter': 714, 'C': 7.225283611705461, 'solver': 'lbfgs'}. Best is trial 33 with value: 0.8786504889907556.\n",
      "[I 2024-12-25 17:47:51,941] Trial 35 finished with value: 0.8758979834529553 and parameters: {'max_iter': 823, 'C': 6.637846777097362, 'solver': 'sag'}. Best is trial 33 with value: 0.8786504889907556.\n",
      "[I 2024-12-25 17:48:01,968] Trial 36 finished with value: 0.877242942765837 and parameters: {'max_iter': 931, 'C': 6.421650955405646, 'solver': 'lbfgs'}. Best is trial 33 with value: 0.8786504889907556.\n",
      "[I 2024-12-25 17:48:06,873] Trial 37 finished with value: 0.8769822925999502 and parameters: {'max_iter': 747, 'C': 5.530008138852153, 'solver': 'sag'}. Best is trial 33 with value: 0.8786504889907556.\n",
      "[I 2024-12-25 17:48:14,662] Trial 38 finished with value: 0.8788277270814732 and parameters: {'max_iter': 629, 'C': 4.360419768523778, 'solver': 'lbfgs'}. Best is trial 38 with value: 0.8788277270814732.\n",
      "[I 2024-12-25 17:48:18,062] Trial 39 finished with value: 0.8777329866012972 and parameters: {'max_iter': 636, 'C': 4.189455772265412, 'solver': 'newton-cg'}. Best is trial 38 with value: 0.8788277270814732.\n",
      "[I 2024-12-25 17:48:21,877] Trial 40 finished with value: 0.8770135887735941 and parameters: {'max_iter': 659, 'C': 2.4046351704501405, 'solver': 'sag'}. Best is trial 38 with value: 0.8788277270814732.\n",
      "[I 2024-12-25 17:48:30,255] Trial 41 finished with value: 0.8785566428647797 and parameters: {'max_iter': 564, 'C': 5.179667848110846, 'solver': 'lbfgs'}. Best is trial 38 with value: 0.8788277270814732.\n",
      "[I 2024-12-25 17:48:38,489] Trial 42 finished with value: 0.8788277357778742 and parameters: {'max_iter': 545, 'C': 4.525772411740373, 'solver': 'lbfgs'}. Best is trial 42 with value: 0.8788277357778742.\n",
      "[I 2024-12-25 17:48:47,652] Trial 43 finished with value: 0.8783585524346762 and parameters: {'max_iter': 549, 'C': 4.484342170786652, 'solver': 'lbfgs'}. Best is trial 42 with value: 0.8788277357778742.\n",
      "[I 2024-12-25 17:48:52,203] Trial 44 finished with value: 0.8776808549375446 and parameters: {'max_iter': 557, 'C': 3.6453499156136973, 'solver': 'saga'}. Best is trial 42 with value: 0.8788277357778742.\n",
      "[I 2024-12-25 17:49:00,129] Trial 45 finished with value: 0.8784211040175837 and parameters: {'max_iter': 541, 'C': 5.6411930213063695, 'solver': 'lbfgs'}. Best is trial 42 with value: 0.8788277357778742.\n",
      "[I 2024-12-25 17:49:08,521] Trial 46 finished with value: 0.8782751381854068 and parameters: {'max_iter': 577, 'C': 3.936981459308049, 'solver': 'lbfgs'}. Best is trial 42 with value: 0.8788277357778742.\n",
      "[I 2024-12-25 17:49:17,668] Trial 47 finished with value: 0.8781917402418891 and parameters: {'max_iter': 515, 'C': 3.23617455559978, 'solver': 'lbfgs'}. Best is trial 42 with value: 0.8788277357778742.\n",
      "[I 2024-12-25 17:49:25,723] Trial 48 finished with value: 0.8781083259926195 and parameters: {'max_iter': 416, 'C': 2.7727183658337187, 'solver': 'lbfgs'}. Best is trial 42 with value: 0.8788277357778742.\n",
      "[I 2024-12-25 17:49:29,581] Trial 49 finished with value: 0.8744592019292009 and parameters: {'max_iter': 449, 'C': 1.5678322668993845, 'solver': 'saga'}. Best is trial 42 with value: 0.8788277357778742.\n",
      "[I 2024-12-25 17:49:37,817] Trial 50 finished with value: 0.878504509026927 and parameters: {'max_iter': 694, 'C': 4.475008727233594, 'solver': 'lbfgs'}. Best is trial 42 with value: 0.8788277357778742.\n",
      "[I 2024-12-25 17:49:47,132] Trial 51 finished with value: 0.8780353289448793 and parameters: {'max_iter': 807, 'C': 5.1865537631971375, 'solver': 'lbfgs'}. Best is trial 42 with value: 0.8788277357778742.\n",
      "/home/anmoljindal/Data_Science/Machine_Learning/Projects/youtube-sentiment-analysis/.venv/lib/python3.12/site-packages/sklearn/linear_model/_logistic.py:465: ConvergenceWarning: lbfgs failed to converge (status=1):\n",
      "STOP: TOTAL NO. of ITERATIONS REACHED LIMIT.\n",
      "\n",
      "Increase the number of iterations (max_iter) or scale the data as shown in:\n",
      "    https://scikit-learn.org/stable/modules/preprocessing.html\n",
      "Please also refer to the documentation for alternative solver options:\n",
      "    https://scikit-learn.org/stable/modules/linear_model.html#logistic-regression\n",
      "  n_iter_i = _check_optimize_result(\n",
      "/home/anmoljindal/Data_Science/Machine_Learning/Projects/youtube-sentiment-analysis/.venv/lib/python3.12/site-packages/sklearn/linear_model/_logistic.py:465: ConvergenceWarning: lbfgs failed to converge (status=1):\n",
      "STOP: TOTAL NO. of ITERATIONS REACHED LIMIT.\n",
      "\n",
      "Increase the number of iterations (max_iter) or scale the data as shown in:\n",
      "    https://scikit-learn.org/stable/modules/preprocessing.html\n",
      "Please also refer to the documentation for alternative solver options:\n",
      "    https://scikit-learn.org/stable/modules/linear_model.html#logistic-regression\n",
      "  n_iter_i = _check_optimize_result(\n",
      "/home/anmoljindal/Data_Science/Machine_Learning/Projects/youtube-sentiment-analysis/.venv/lib/python3.12/site-packages/sklearn/linear_model/_logistic.py:465: ConvergenceWarning: lbfgs failed to converge (status=1):\n",
      "STOP: TOTAL NO. of ITERATIONS REACHED LIMIT.\n",
      "\n",
      "Increase the number of iterations (max_iter) or scale the data as shown in:\n",
      "    https://scikit-learn.org/stable/modules/preprocessing.html\n",
      "Please also refer to the documentation for alternative solver options:\n",
      "    https://scikit-learn.org/stable/modules/linear_model.html#logistic-regression\n",
      "  n_iter_i = _check_optimize_result(\n",
      "/home/anmoljindal/Data_Science/Machine_Learning/Projects/youtube-sentiment-analysis/.venv/lib/python3.12/site-packages/sklearn/linear_model/_logistic.py:465: ConvergenceWarning: lbfgs failed to converge (status=1):\n",
      "STOP: TOTAL NO. of ITERATIONS REACHED LIMIT.\n",
      "\n",
      "Increase the number of iterations (max_iter) or scale the data as shown in:\n",
      "    https://scikit-learn.org/stable/modules/preprocessing.html\n",
      "Please also refer to the documentation for alternative solver options:\n",
      "    https://scikit-learn.org/stable/modules/linear_model.html#logistic-regression\n",
      "  n_iter_i = _check_optimize_result(\n",
      "/home/anmoljindal/Data_Science/Machine_Learning/Projects/youtube-sentiment-analysis/.venv/lib/python3.12/site-packages/sklearn/linear_model/_logistic.py:465: ConvergenceWarning: lbfgs failed to converge (status=1):\n",
      "STOP: TOTAL NO. of ITERATIONS REACHED LIMIT.\n",
      "\n",
      "Increase the number of iterations (max_iter) or scale the data as shown in:\n",
      "    https://scikit-learn.org/stable/modules/preprocessing.html\n",
      "Please also refer to the documentation for alternative solver options:\n",
      "    https://scikit-learn.org/stable/modules/linear_model.html#logistic-regression\n",
      "  n_iter_i = _check_optimize_result(\n",
      "[I 2024-12-25 17:49:53,417] Trial 52 finished with value: 0.8786609023876094 and parameters: {'max_iter': 106, 'C': 5.144370154181698, 'solver': 'lbfgs'}. Best is trial 42 with value: 0.8788277357778742.\n",
      "[I 2024-12-25 17:50:02,524] Trial 53 finished with value: 0.8780353354671803 and parameters: {'max_iter': 213, 'C': 6.329742697659699, 'solver': 'lbfgs'}. Best is trial 42 with value: 0.8788277357778742.\n",
      "/home/anmoljindal/Data_Science/Machine_Learning/Projects/youtube-sentiment-analysis/.venv/lib/python3.12/site-packages/sklearn/linear_model/_logistic.py:465: ConvergenceWarning: lbfgs failed to converge (status=1):\n",
      "STOP: TOTAL NO. of ITERATIONS REACHED LIMIT.\n",
      "\n",
      "Increase the number of iterations (max_iter) or scale the data as shown in:\n",
      "    https://scikit-learn.org/stable/modules/preprocessing.html\n",
      "Please also refer to the documentation for alternative solver options:\n",
      "    https://scikit-learn.org/stable/modules/linear_model.html#logistic-regression\n",
      "  n_iter_i = _check_optimize_result(\n",
      "/home/anmoljindal/Data_Science/Machine_Learning/Projects/youtube-sentiment-analysis/.venv/lib/python3.12/site-packages/sklearn/linear_model/_logistic.py:465: ConvergenceWarning: lbfgs failed to converge (status=1):\n",
      "STOP: TOTAL NO. of ITERATIONS REACHED LIMIT.\n",
      "\n",
      "Increase the number of iterations (max_iter) or scale the data as shown in:\n",
      "    https://scikit-learn.org/stable/modules/preprocessing.html\n",
      "Please also refer to the documentation for alternative solver options:\n",
      "    https://scikit-learn.org/stable/modules/linear_model.html#logistic-regression\n",
      "  n_iter_i = _check_optimize_result(\n",
      "/home/anmoljindal/Data_Science/Machine_Learning/Projects/youtube-sentiment-analysis/.venv/lib/python3.12/site-packages/sklearn/linear_model/_logistic.py:465: ConvergenceWarning: lbfgs failed to converge (status=1):\n",
      "STOP: TOTAL NO. of ITERATIONS REACHED LIMIT.\n",
      "\n",
      "Increase the number of iterations (max_iter) or scale the data as shown in:\n",
      "    https://scikit-learn.org/stable/modules/preprocessing.html\n",
      "Please also refer to the documentation for alternative solver options:\n",
      "    https://scikit-learn.org/stable/modules/linear_model.html#logistic-regression\n",
      "  n_iter_i = _check_optimize_result(\n",
      "/home/anmoljindal/Data_Science/Machine_Learning/Projects/youtube-sentiment-analysis/.venv/lib/python3.12/site-packages/sklearn/linear_model/_logistic.py:465: ConvergenceWarning: lbfgs failed to converge (status=1):\n",
      "STOP: TOTAL NO. of ITERATIONS REACHED LIMIT.\n",
      "\n",
      "Increase the number of iterations (max_iter) or scale the data as shown in:\n",
      "    https://scikit-learn.org/stable/modules/preprocessing.html\n",
      "Please also refer to the documentation for alternative solver options:\n",
      "    https://scikit-learn.org/stable/modules/linear_model.html#logistic-regression\n",
      "  n_iter_i = _check_optimize_result(\n",
      "/home/anmoljindal/Data_Science/Machine_Learning/Projects/youtube-sentiment-analysis/.venv/lib/python3.12/site-packages/sklearn/linear_model/_logistic.py:465: ConvergenceWarning: lbfgs failed to converge (status=1):\n",
      "STOP: TOTAL NO. of ITERATIONS REACHED LIMIT.\n",
      "\n",
      "Increase the number of iterations (max_iter) or scale the data as shown in:\n",
      "    https://scikit-learn.org/stable/modules/preprocessing.html\n",
      "Please also refer to the documentation for alternative solver options:\n",
      "    https://scikit-learn.org/stable/modules/linear_model.html#logistic-regression\n",
      "  n_iter_i = _check_optimize_result(\n",
      "[I 2024-12-25 17:50:09,267] Trial 54 finished with value: 0.8783376913988892 and parameters: {'max_iter': 114, 'C': 5.811807606097679, 'solver': 'lbfgs'}. Best is trial 42 with value: 0.8788277357778742.\n",
      "[I 2024-12-25 17:50:18,492] Trial 55 finished with value: 0.8787547452524349 and parameters: {'max_iter': 364, 'C': 4.185588272654905, 'solver': 'lbfgs'}. Best is trial 42 with value: 0.8788277357778742.\n",
      "[I 2024-12-25 17:50:26,363] Trial 56 finished with value: 0.8786087799637832 and parameters: {'max_iter': 359, 'C': 4.120675968219061, 'solver': 'lbfgs'}. Best is trial 42 with value: 0.8788277357778742.\n",
      "[I 2024-12-25 17:50:30,720] Trial 57 finished with value: 0.8777329898624476 and parameters: {'max_iter': 375, 'C': 3.520120641845461, 'solver': 'sag'}. Best is trial 42 with value: 0.8788277357778742.\n",
      "[I 2024-12-25 17:50:34,108] Trial 58 finished with value: 0.8776391518893478 and parameters: {'max_iter': 284, 'C': 4.042931466453409, 'solver': 'newton-cg'}. Best is trial 42 with value: 0.8788277357778742.\n",
      "[I 2024-12-25 17:50:42,319] Trial 59 finished with value: 0.878452382798425 and parameters: {'max_iter': 159, 'C': 4.374818438493029, 'solver': 'lbfgs'}. Best is trial 42 with value: 0.8788277357778742.\n",
      "[I 2024-12-25 17:50:51,130] Trial 60 finished with value: 0.878348134689622 and parameters: {'max_iter': 254, 'C': 3.8519298002046183, 'solver': 'lbfgs'}. Best is trial 42 with value: 0.8788277357778742.\n",
      "[I 2024-12-25 17:50:59,720] Trial 61 finished with value: 0.8787338825860725 and parameters: {'max_iter': 465, 'C': 4.79876241872103, 'solver': 'lbfgs'}. Best is trial 42 with value: 0.8788277357778742.\n",
      "[I 2024-12-25 17:51:08,440] Trial 62 finished with value: 0.8782542858460207 and parameters: {'max_iter': 461, 'C': 4.912075994179212, 'solver': 'lbfgs'}. Best is trial 42 with value: 0.8788277357778742.\n",
      "[I 2024-12-25 17:51:16,624] Trial 63 finished with value: 0.8783898333896181 and parameters: {'max_iter': 394, 'C': 4.25639494990862, 'solver': 'lbfgs'}. Best is trial 42 with value: 0.8788277357778742.\n",
      "[I 2024-12-25 17:51:25,244] Trial 64 finished with value: 0.8781396036864109 and parameters: {'max_iter': 354, 'C': 5.501006529390292, 'solver': 'lbfgs'}. Best is trial 42 with value: 0.8788277357778742.\n",
      "[I 2024-12-25 17:51:33,556] Trial 65 finished with value: 0.8785149365554326 and parameters: {'max_iter': 302, 'C': 4.652356952195486, 'solver': 'lbfgs'}. Best is trial 42 with value: 0.8788277357778742.\n",
      "[I 2024-12-25 17:51:42,207] Trial 66 finished with value: 0.8783272790890854 and parameters: {'max_iter': 494, 'C': 3.464678264663613, 'solver': 'lbfgs'}. Best is trial 42 with value: 0.8788277357778742.\n",
      "[I 2024-12-25 17:51:46,397] Trial 67 finished with value: 0.8416586476336363 and parameters: {'max_iter': 616, 'C': 0.2987318211985528, 'solver': 'saga'}. Best is trial 42 with value: 0.8788277357778742.\n",
      "[I 2024-12-25 17:51:54,821] Trial 68 finished with value: 0.8787860115321997 and parameters: {'max_iter': 425, 'C': 4.974550939757847, 'solver': 'lbfgs'}. Best is trial 42 with value: 0.8788277357778742.\n",
      "[I 2024-12-25 17:52:02,810] Trial 69 finished with value: 0.8787964406912806 and parameters: {'max_iter': 440, 'C': 4.919557189177739, 'solver': 'lbfgs'}. Best is trial 42 with value: 0.8788277357778742.\n",
      "[I 2024-12-25 17:52:06,672] Trial 70 finished with value: 0.8734374133841843 and parameters: {'max_iter': 526, 'C': 9.631471047412452, 'solver': 'newton-cg'}. Best is trial 42 with value: 0.8788277357778742.\n",
      "[I 2024-12-25 17:52:15,852] Trial 71 finished with value: 0.8787547360125088 and parameters: {'max_iter': 454, 'C': 4.953400291813099, 'solver': 'lbfgs'}. Best is trial 42 with value: 0.8788277357778742.\n",
      "[I 2024-12-25 17:52:25,286] Trial 72 finished with value: 0.8786817650539719 and parameters: {'max_iter': 431, 'C': 5.358056019082715, 'solver': 'lbfgs'}. Best is trial 42 with value: 0.8788277357778742.\n",
      "[I 2024-12-25 17:52:33,912] Trial 73 finished with value: 0.8784211034740584 and parameters: {'max_iter': 452, 'C': 4.848261787119314, 'solver': 'lbfgs'}. Best is trial 42 with value: 0.8788277357778742.\n",
      "[I 2024-12-25 17:52:42,433] Trial 74 finished with value: 0.877451467790272 and parameters: {'max_iter': 393, 'C': 6.1265718657961115, 'solver': 'lbfgs'}. Best is trial 42 with value: 0.8788277357778742.\n",
      "[I 2024-12-25 17:52:51,095] Trial 75 finished with value: 0.8780249128304002 and parameters: {'max_iter': 429, 'C': 5.380894428923428, 'solver': 'lbfgs'}. Best is trial 42 with value: 0.8788277357778742.\n",
      "[I 2024-12-25 17:52:58,787] Trial 76 finished with value: 0.8785983529788025 and parameters: {'max_iter': 475, 'C': 4.686926870764301, 'solver': 'lbfgs'}. Best is trial 42 with value: 0.8788277357778742.\n",
      "[I 2024-12-25 17:53:07,419] Trial 77 finished with value: 0.8784211056481588 and parameters: {'max_iter': 509, 'C': 5.834165248312248, 'solver': 'lbfgs'}. Best is trial 42 with value: 0.8788277357778742.\n",
      "[I 2024-12-25 17:53:12,830] Trial 78 finished with value: 0.8757937212125004 and parameters: {'max_iter': 435, 'C': 6.730228809506459, 'solver': 'sag'}. Best is trial 42 with value: 0.8788277357778742.\n",
      "[I 2024-12-25 17:53:21,755] Trial 79 finished with value: 0.8785670845249373 and parameters: {'max_iter': 327, 'C': 4.388886742487703, 'solver': 'lbfgs'}. Best is trial 42 with value: 0.8788277357778742.\n",
      "[I 2024-12-25 17:53:30,725] Trial 80 finished with value: 0.8782334362242601 and parameters: {'max_iter': 486, 'C': 3.7562680288616663, 'solver': 'lbfgs'}. Best is trial 42 with value: 0.8788277357778742.\n",
      "[I 2024-12-25 17:53:40,980] Trial 81 finished with value: 0.8780978827018867 and parameters: {'max_iter': 593, 'C': 5.332535557438956, 'solver': 'lbfgs'}. Best is trial 42 with value: 0.8788277357778742.\n",
      "[I 2024-12-25 17:53:50,401] Trial 82 finished with value: 0.8782959975906186 and parameters: {'max_iter': 411, 'C': 4.981669697533771, 'solver': 'lbfgs'}. Best is trial 42 with value: 0.8788277357778742.\n",
      "[I 2024-12-25 17:53:59,301] Trial 83 finished with value: 0.8784211116269345 and parameters: {'max_iter': 471, 'C': 4.660180255023743, 'solver': 'lbfgs'}. Best is trial 42 with value: 0.8788277357778742.\n",
      "[I 2024-12-25 17:54:07,900] Trial 84 finished with value: 0.8781291728967549 and parameters: {'max_iter': 385, 'C': 5.706384201980572, 'solver': 'lbfgs'}. Best is trial 42 with value: 0.8788277357778742.\n",
      "[I 2024-12-25 17:54:17,032] Trial 85 finished with value: 0.8785045139186526 and parameters: {'max_iter': 533, 'C': 4.891393741285207, 'solver': 'lbfgs'}. Best is trial 42 with value: 0.8788277357778742.\n",
      "[I 2024-12-25 17:54:22,191] Trial 86 finished with value: 0.8772950804083652 and parameters: {'max_iter': 649, 'C': 5.2959942867143, 'solver': 'saga'}. Best is trial 42 with value: 0.8788277357778742.\n",
      "[I 2024-12-25 17:54:30,881] Trial 87 finished with value: 0.8778268147909456 and parameters: {'max_iter': 440, 'C': 6.207194203360387, 'solver': 'lbfgs'}. Best is trial 42 with value: 0.8788277357778742.\n",
      "[I 2024-12-25 17:54:38,803] Trial 88 finished with value: 0.8784419525522941 and parameters: {'max_iter': 500, 'C': 4.093838012859751, 'solver': 'lbfgs'}. Best is trial 42 with value: 0.8788277357778742.\n",
      "[I 2024-12-25 17:54:42,193] Trial 89 finished with value: 0.8777121304572356 and parameters: {'max_iter': 370, 'C': 4.564583872129829, 'solver': 'newton-cg'}. Best is trial 42 with value: 0.8788277357778742.\n",
      "[I 2024-12-25 17:54:50,511] Trial 90 finished with value: 0.8780874714791335 and parameters: {'max_iter': 579, 'C': 3.048444038105148, 'solver': 'lbfgs'}. Best is trial 42 with value: 0.8788277357778742.\n",
      "[I 2024-12-25 17:54:58,826] Trial 91 finished with value: 0.8783585502605759 and parameters: {'max_iter': 336, 'C': 5.515481636179947, 'solver': 'lbfgs'}. Best is trial 42 with value: 0.8788277357778742.\n",
      "[I 2024-12-25 17:55:07,458] Trial 92 finished with value: 0.8783689772455565 and parameters: {'max_iter': 417, 'C': 4.9980239490244935, 'solver': 'lbfgs'}. Best is trial 42 with value: 0.8788277357778742.\n",
      "[I 2024-12-25 17:55:15,961] Trial 93 finished with value: 0.8783585448253254 and parameters: {'max_iter': 730, 'C': 5.162451795141104, 'solver': 'lbfgs'}. Best is trial 42 with value: 0.8788277357778742.\n",
      "[I 2024-12-25 17:55:23,845] Trial 94 finished with value: 0.8786192091228638 and parameters: {'max_iter': 181, 'C': 4.336974083681328, 'solver': 'lbfgs'}. Best is trial 42 with value: 0.8788277357778742.\n",
      "[I 2024-12-25 17:55:32,543] Trial 95 finished with value: 0.8775557360095029 and parameters: {'max_iter': 403, 'C': 6.01137411739222, 'solver': 'lbfgs'}. Best is trial 42 with value: 0.8788277357778742.\n",
      "[I 2024-12-25 17:55:40,629] Trial 96 finished with value: 0.8785670774591114 and parameters: {'max_iter': 518, 'C': 4.947180393980757, 'solver': 'lbfgs'}. Best is trial 42 with value: 0.8788277357778742.\n",
      "[I 2024-12-25 17:55:45,088] Trial 97 finished with value: 0.8776391508022977 and parameters: {'max_iter': 467, 'C': 3.93395930433916, 'solver': 'sag'}. Best is trial 42 with value: 0.8788277357778742.\n",
      "[I 2024-12-25 17:55:52,853] Trial 98 finished with value: 0.8785462088139733 and parameters: {'max_iter': 243, 'C': 4.512471397046958, 'solver': 'lbfgs'}. Best is trial 42 with value: 0.8788277357778742.\n",
      "[I 2024-12-25 17:56:02,109] Trial 99 finished with value: 0.8779206467852697 and parameters: {'max_iter': 484, 'C': 5.752797995219021, 'solver': 'lbfgs'}. Best is trial 42 with value: 0.8788277357778742.\n"
     ]
    }
   ],
   "source": [
    "study = optuna.create_study(direction=\"maximize\")\n",
    "study.optimize(objective,n_trials=100)"
   ]
  },
  {
   "cell_type": "code",
   "execution_count": 14,
   "metadata": {},
   "outputs": [
    {
     "data": {
      "text/plain": [
       "{'max_iter': 545, 'C': 4.525772411740373, 'solver': 'lbfgs'}"
      ]
     },
     "execution_count": 14,
     "metadata": {},
     "output_type": "execute_result"
    }
   ],
   "source": [
    "# Extract the best hyperparameters\n",
    "best_params = study.best_params\n",
    "best_params"
   ]
  },
  {
   "cell_type": "code",
   "execution_count": 24,
   "metadata": {},
   "outputs": [
    {
     "name": "stderr",
     "output_type": "stream",
     "text": [
      "/home/anmoljindal/Data_Science/Machine_Learning/Projects/youtube-sentiment-analysis/.venv/lib/python3.12/site-packages/mlflow/types/utils.py:435: UserWarning: Hint: Inferred schema contains integer column(s). Integer columns in Python cannot represent missing values. If your input data contains missing values at inference time, it will be encoded as floats and will cause a schema enforcement error. The best way to avoid this problem is to infer the model schema based on a realistic data sample (training dataset) that includes missing values. Alternatively, you can declare integer columns as doubles (float64) whenever these columns may have missing values. See `Handling Integers With Missing Values <https://www.mlflow.org/docs/latest/models.html#handling-integers-with-missing-values>`_ for more details.\n",
      "  warnings.warn(\n"
     ]
    },
    {
     "name": "stdout",
     "output_type": "stream",
     "text": [
      "🏃 View run LoR HP with l2 at: https://dagshub.com/Anmol25/youtube-sentiment-analysis.mlflow/#/experiments/9/runs/17d1e39f47de4e44a4b2bbb68d3bbba1\n",
      "🧪 View experiment at: https://dagshub.com/Anmol25/youtube-sentiment-analysis.mlflow/#/experiments/9\n"
     ]
    }
   ],
   "source": [
    "with mlflow.start_run():\n",
    "    mlflow.set_tag(\"mlflow.runName\", \"LoR HP with l2\")\n",
    "    mlflow.set_tag(\"experiment_type\", \"LoR HP Tuning\")\n",
    "    mlflow.set_tag(\"model_type\", \"LoR\")\n",
    "\n",
    "    # Add a description\n",
    "    mlflow.set_tag(\"description\", \"LoR HP Tuning with only L2 Reg\")\n",
    "\n",
    "    model = LogisticRegression(**best_params, n_jobs=-1)\n",
    "\n",
    "    # Log vectorizer parameters\n",
    "    mlflow.log_param(\"vectorizer_type\", \"TF-IDF\")\n",
    "    mlflow.log_param(\"ngram_range\", ngram_range)\n",
    "    mlflow.log_param(\"vectorizer_max_features\", max_features)\n",
    "    mlflow.log_param(\"Algo_name\", \"LoR\")\n",
    "\n",
    "    model.fit(X_train,y_train)\n",
    "\n",
    "    # Make predictions and log metrics\n",
    "    y_pred = model.predict(X_test)\n",
    "\n",
    "    # Log accuracy\n",
    "    accuracy = accuracy_score(y_test, y_pred)\n",
    "    mlflow.log_metric(\"accuracy\", accuracy)\n",
    "\n",
    "    # Log classification report\n",
    "    classification_rep = classification_report(y_test, y_pred, output_dict=True)\n",
    "    for label, metrics in classification_rep.items():\n",
    "        if isinstance(metrics, dict):\n",
    "            for metric, value in metrics.items():\n",
    "                mlflow.log_metric(f\"{label}_{metric}\", value)\n",
    "\n",
    "    # Log confusion matrix\n",
    "    conf_matrix = confusion_matrix(y_test, y_pred)\n",
    "    plt.figure(figsize=(8, 6))\n",
    "    sns.heatmap(conf_matrix, annot=True, fmt=\"d\", cmap=\"Blues\")\n",
    "    plt.xlabel(\"Predicted\")\n",
    "    plt.ylabel(\"Actual\")\n",
    "    plt.title(f\"Confusion Matrix: TF-IDF Unigrams, max_features={max_features}\")\n",
    "    plt.savefig(\"confusion_matrix.png\")\n",
    "    mlflow.log_artifact(\"confusion_matrix.png\")\n",
    "    plt.close()\n",
    "\n",
    "    ## Create model_signature\n",
    "    signature = infer_signature(X_train[:1], y_train.iloc[0])\n",
    "\n",
    "    # Log hyperparameters\n",
    "    try:\n",
    "        hyperparameters = model.get_params()\n",
    "        for param_name, param_value in hyperparameters.items():\n",
    "            mlflow.log_param(param_name, param_value)\n",
    "    except AttributeError:\n",
    "        mlflow.log_param(\"hyperparameters\", \"Not available for this model\")\n",
    "\n",
    "    # Log Model\n",
    "    mlflow.sklearn.log_model(sk_model=model, artifact_path=\"LoR with Best params with l2 Reg\", signature=signature)\n"
   ]
  },
  {
   "cell_type": "code",
   "execution_count": 25,
   "metadata": {},
   "outputs": [
    {
     "name": "stdout",
     "output_type": "stream",
     "text": [
      "              precision    recall  f1-score   support\n",
      "\n",
      "           0       0.87      0.95      0.91      7979\n",
      "           1       0.90      0.85      0.88      8000\n",
      "           2       0.89      0.85      0.87      8000\n",
      "\n",
      "    accuracy                           0.88     23979\n",
      "   macro avg       0.89      0.88      0.88     23979\n",
      "weighted avg       0.89      0.88      0.88     23979\n",
      "\n"
     ]
    }
   ],
   "source": [
    "print(classification_report(y_test, y_pred))"
   ]
  }
 ],
 "metadata": {
  "kernelspec": {
   "display_name": ".venv",
   "language": "python",
   "name": "python3"
  },
  "language_info": {
   "codemirror_mode": {
    "name": "ipython",
    "version": 3
   },
   "file_extension": ".py",
   "mimetype": "text/x-python",
   "name": "python",
   "nbconvert_exporter": "python",
   "pygments_lexer": "ipython3",
   "version": "3.12.3"
  }
 },
 "nbformat": 4,
 "nbformat_minor": 2
}
