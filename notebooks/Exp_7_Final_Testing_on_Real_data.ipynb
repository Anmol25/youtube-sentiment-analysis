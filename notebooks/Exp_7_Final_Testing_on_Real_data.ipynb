{
 "cells": [
  {
   "cell_type": "code",
   "execution_count": 1,
   "metadata": {},
   "outputs": [],
   "source": [
    "import numpy as np\n",
    "import pandas as pd"
   ]
  },
  {
   "cell_type": "code",
   "execution_count": 2,
   "metadata": {},
   "outputs": [
    {
     "data": {
      "text/html": [
       "<div>\n",
       "<style scoped>\n",
       "    .dataframe tbody tr th:only-of-type {\n",
       "        vertical-align: middle;\n",
       "    }\n",
       "\n",
       "    .dataframe tbody tr th {\n",
       "        vertical-align: top;\n",
       "    }\n",
       "\n",
       "    .dataframe thead th {\n",
       "        text-align: right;\n",
       "    }\n",
       "</style>\n",
       "<table border=\"1\" class=\"dataframe\">\n",
       "  <thead>\n",
       "    <tr style=\"text-align: right;\">\n",
       "      <th></th>\n",
       "      <th>clean_comment</th>\n",
       "      <th>category</th>\n",
       "    </tr>\n",
       "  </thead>\n",
       "  <tbody>\n",
       "    <tr>\n",
       "      <th>0</th>\n",
       "      <td>cant believe modi</td>\n",
       "      <td>0</td>\n",
       "    </tr>\n",
       "    <tr>\n",
       "      <th>1</th>\n",
       "      <td>karachi total blackout</td>\n",
       "      <td>0</td>\n",
       "    </tr>\n",
       "    <tr>\n",
       "      <th>2</th>\n",
       "      <td>couldnt done year modi year increasing unemplo...</td>\n",
       "      <td>0</td>\n",
       "    </tr>\n",
       "    <tr>\n",
       "      <th>3</th>\n",
       "      <td>modi talk world tallest statue talk world larg...</td>\n",
       "      <td>-1</td>\n",
       "    </tr>\n",
       "    <tr>\n",
       "      <th>4</th>\n",
       "      <td>major announcement modi everyone waiting game ...</td>\n",
       "      <td>-1</td>\n",
       "    </tr>\n",
       "  </tbody>\n",
       "</table>\n",
       "</div>"
      ],
      "text/plain": [
       "                                       clean_comment  category\n",
       "0                                  cant believe modi         0\n",
       "1                             karachi total blackout         0\n",
       "2  couldnt done year modi year increasing unemplo...         0\n",
       "3  modi talk world tallest statue talk world larg...        -1\n",
       "4  major announcement modi everyone waiting game ...        -1"
      ]
     },
     "execution_count": 2,
     "metadata": {},
     "output_type": "execute_result"
    }
   ],
   "source": [
    "df = pd.read_csv(\"data/preprocessed/sentiments_preprocessed.csv\")\n",
    "df.head()"
   ]
  },
  {
   "cell_type": "code",
   "execution_count": 3,
   "metadata": {},
   "outputs": [],
   "source": [
    "from sklearn.feature_extraction.text import TfidfVectorizer\n",
    "from sklearn.model_selection import train_test_split, cross_val_score\n",
    "from sklearn.metrics import accuracy_score, classification_report, confusion_matrix\n",
    "from sklearn.linear_model import LogisticRegression\n",
    "from sklearn.ensemble import StackingClassifier\n",
    "from lightgbm import LGBMClassifier\n",
    "import matplotlib.pyplot as plt\n",
    "import seaborn as sns"
   ]
  },
  {
   "cell_type": "code",
   "execution_count": 4,
   "metadata": {},
   "outputs": [],
   "source": [
    "## Remaping outputs\n",
    "df['category'] = df['category'].map({-1: 0, 0: 1, 1: 2})"
   ]
  },
  {
   "cell_type": "code",
   "execution_count": 5,
   "metadata": {},
   "outputs": [],
   "source": [
    "import json\n",
    "# Best Params for  models\n",
    "\n",
    "# Logistic Regression\n",
    "with open(\"best_params/LoR.json\", \"r\") as file:\n",
    "    lor_params = json.load(file)\n",
    "\n",
    "# LightGBM\n",
    "with open(\"best_params/lightgbm.json\", \"r\") as file:\n",
    "    lgbm_params = json.load(file)\n"
   ]
  },
  {
   "cell_type": "code",
   "execution_count": 6,
   "metadata": {},
   "outputs": [],
   "source": [
    "ngram_range = (1, 1)  # Unigram setting\n",
    "max_features = 9000\n",
    "\n",
    "# Vectorization using TF-IDF with 9000 max features\n",
    "vectorizer = TfidfVectorizer(ngram_range=ngram_range, max_features=max_features)\n",
    "\n",
    "X_train, X_test, y_train, y_test = train_test_split(df['clean_comment'], df['category'], test_size=0.2, random_state=42, stratify=df['category'])\n",
    "\n",
    "X_train = vectorizer.fit_transform(X_train)\n",
    "X_test = vectorizer.transform(X_test)"
   ]
  },
  {
   "cell_type": "markdown",
   "metadata": {},
   "source": [
    "### Model"
   ]
  },
  {
   "cell_type": "code",
   "execution_count": 7,
   "metadata": {},
   "outputs": [
    {
     "name": "stderr",
     "output_type": "stream",
     "text": [
      "/home/anmoljindal/Data_Science/Machine_Learning/Projects/youtube-sentiment-analysis/.venv/lib/python3.12/site-packages/sklearn/utils/deprecation.py:151: FutureWarning: 'force_all_finite' was renamed to 'ensure_all_finite' in 1.6 and will be removed in 1.8.\n",
      "  warnings.warn(\n",
      "/home/anmoljindal/Data_Science/Machine_Learning/Projects/youtube-sentiment-analysis/.venv/lib/python3.12/site-packages/sklearn/utils/_tags.py:354: FutureWarning: The LGBMClassifier or classes from which it inherits use `_get_tags` and `_more_tags`. Please define the `__sklearn_tags__` method, or inherit from `sklearn.base.BaseEstimator` and/or other appropriate mixins such as `sklearn.base.TransformerMixin`, `sklearn.base.ClassifierMixin`, `sklearn.base.RegressorMixin`, and `sklearn.base.OutlierMixin`. From scikit-learn 1.7, not defining `__sklearn_tags__` will raise an error.\n",
      "  warnings.warn(\n",
      "/home/anmoljindal/Data_Science/Machine_Learning/Projects/youtube-sentiment-analysis/.venv/lib/python3.12/site-packages/sklearn/utils/_tags.py:354: FutureWarning: The LGBMClassifier or classes from which it inherits use `_get_tags` and `_more_tags`. Please define the `__sklearn_tags__` method, or inherit from `sklearn.base.BaseEstimator` and/or other appropriate mixins such as `sklearn.base.TransformerMixin`, `sklearn.base.ClassifierMixin`, `sklearn.base.RegressorMixin`, and `sklearn.base.OutlierMixin`. From scikit-learn 1.7, not defining `__sklearn_tags__` will raise an error.\n",
      "  warnings.warn(\n",
      "/home/anmoljindal/Data_Science/Machine_Learning/Projects/youtube-sentiment-analysis/.venv/lib/python3.12/site-packages/sklearn/utils/deprecation.py:151: FutureWarning: 'force_all_finite' was renamed to 'ensure_all_finite' in 1.6 and will be removed in 1.8.\n",
      "  warnings.warn(\n",
      "/home/anmoljindal/Data_Science/Machine_Learning/Projects/youtube-sentiment-analysis/.venv/lib/python3.12/site-packages/sklearn/utils/deprecation.py:151: FutureWarning: 'force_all_finite' was renamed to 'ensure_all_finite' in 1.6 and will be removed in 1.8.\n",
      "  warnings.warn(\n",
      "/home/anmoljindal/Data_Science/Machine_Learning/Projects/youtube-sentiment-analysis/.venv/lib/python3.12/site-packages/sklearn/utils/deprecation.py:151: FutureWarning: 'force_all_finite' was renamed to 'ensure_all_finite' in 1.6 and will be removed in 1.8.\n",
      "  warnings.warn(\n",
      "/home/anmoljindal/Data_Science/Machine_Learning/Projects/youtube-sentiment-analysis/.venv/lib/python3.12/site-packages/sklearn/utils/deprecation.py:151: FutureWarning: 'force_all_finite' was renamed to 'ensure_all_finite' in 1.6 and will be removed in 1.8.\n",
      "  warnings.warn(\n",
      "/home/anmoljindal/Data_Science/Machine_Learning/Projects/youtube-sentiment-analysis/.venv/lib/python3.12/site-packages/sklearn/utils/deprecation.py:151: FutureWarning: 'force_all_finite' was renamed to 'ensure_all_finite' in 1.6 and will be removed in 1.8.\n",
      "  warnings.warn(\n"
     ]
    }
   ],
   "source": [
    "# Logistic Regression\n",
    "lor = LogisticRegression(**lor_params, n_jobs=-1)\n",
    "\n",
    "# LightGBM\n",
    "lgbm = LGBMClassifier(**lgbm_params, boosting_type=\"gbdt\",\n",
    "                        n_jobs=-1,objective=\"multiclass\",num_class=3,\n",
    "                        verbosity=-1)\n",
    "\n",
    "# Stacking Classifier\n",
    "estimators = [\n",
    "    ('lor', lor),\n",
    "    ('lgbm', lgbm)\n",
    "    #('catboost', catboost)\n",
    "]\n",
    "stack = StackingClassifier(estimators=estimators,\n",
    "                            final_estimator=LogisticRegression(n_jobs=-1),\n",
    "                            n_jobs = -1, cv= 5) \n",
    "\n",
    "stack.fit(X_train, y_train)\n",
    "y_pred = stack.predict(X_test)"
   ]
  },
  {
   "cell_type": "code",
   "execution_count": 8,
   "metadata": {},
   "outputs": [
    {
     "data": {
      "text/plain": [
       "0.8965344676592018"
      ]
     },
     "execution_count": 8,
     "metadata": {},
     "output_type": "execute_result"
    }
   ],
   "source": [
    "accuracy = accuracy_score(y_test, y_pred)\n",
    "accuracy"
   ]
  },
  {
   "cell_type": "code",
   "execution_count": 9,
   "metadata": {},
   "outputs": [
    {
     "name": "stdout",
     "output_type": "stream",
     "text": [
      "              precision    recall  f1-score   support\n",
      "\n",
      "           0       0.89      0.87      0.88      8000\n",
      "           1       0.88      0.96      0.92      7979\n",
      "           2       0.92      0.86      0.89      8000\n",
      "\n",
      "    accuracy                           0.90     23979\n",
      "   macro avg       0.90      0.90      0.90     23979\n",
      "weighted avg       0.90      0.90      0.90     23979\n",
      "\n"
     ]
    }
   ],
   "source": [
    "print(classification_report(y_test, y_pred))"
   ]
  },
  {
   "cell_type": "markdown",
   "metadata": {},
   "source": [
    "### Testing on Real Data"
   ]
  },
  {
   "cell_type": "code",
   "execution_count": 11,
   "metadata": {},
   "outputs": [
    {
     "name": "stderr",
     "output_type": "stream",
     "text": [
      "[nltk_data] Downloading package stopwords to\n",
      "[nltk_data]     /home/anmoljindal/nltk_data...\n",
      "[nltk_data]   Package stopwords is already up-to-date!\n",
      "[nltk_data] Downloading package wordnet to\n",
      "[nltk_data]     /home/anmoljindal/nltk_data...\n",
      "[nltk_data]   Package wordnet is already up-to-date!\n"
     ]
    },
    {
     "data": {
      "text/plain": [
       "True"
      ]
     },
     "execution_count": 11,
     "metadata": {},
     "output_type": "execute_result"
    }
   ],
   "source": [
    "import re\n",
    "import nltk\n",
    "from nltk.corpus import stopwords\n",
    "from nltk.stem import WordNetLemmatizer\n",
    "# Ensure necessary NLTK data is downloaded\n",
    "nltk.download('stopwords')\n",
    "nltk.download('wordnet')"
   ]
  },
  {
   "cell_type": "code",
   "execution_count": 15,
   "metadata": {},
   "outputs": [],
   "source": [
    "## Preprocessing step\n",
    "# Define the preprocessing function\n",
    "def preprocess_comment(comment):\n",
    "    # Convert to lowercase\n",
    "    comment = comment.lower()\n",
    "\n",
    "    # Remove trailing and leading whitespaces\n",
    "    comment = comment.strip()\n",
    "\n",
    "    # Remove newline characters\n",
    "    comment = re.sub(r'\\n', ' ', comment)\n",
    "\n",
    "    # Remove non-alphanumeric characters, except punctuation\n",
    "    comment = re.sub(r'[^A-Za-z0-9\\s!?.,]', '', comment)\n",
    "\n",
    "    # Remove stopwords but retain important ones for sentiment analysis\n",
    "    stop_words = set(stopwords.words('english')) - {'not', 'but', 'however', 'no', 'yet'}\n",
    "    comment = ' '.join([word for word in comment.split() if word not in stop_words])\n",
    "\n",
    "    # Lemmatize the words\n",
    "    lemmatizer = WordNetLemmatizer()\n",
    "    comment = ' '.join([lemmatizer.lemmatize(word) for word in comment.split()])\n",
    "\n",
    "    return comment\n",
    "\n",
    "# Predict Sentiment\n",
    "def predict_sentiment(comment):\n",
    "    # Preprocess the comment\n",
    "    comment = preprocess_comment(comment)\n",
    "\n",
    "    # Vectorize the comment\n",
    "    comment_vectorized = vectorizer.transform([comment])\n",
    "\n",
    "    # Predict the sentiment\n",
    "    sentiment = stack.predict(comment_vectorized)[0]\n",
    "    confidence = stack.predict_proba(comment_vectorized).max()\n",
    "\n",
    "    if sentiment == 0:\n",
    "        sentiment = \"Negative\"\n",
    "    elif sentiment == 1:\n",
    "        sentiment = \"Neutral\"\n",
    "    else:\n",
    "        sentiment = \"Positive\"\n",
    "\n",
    "    return sentiment, confidence"
   ]
  },
  {
   "cell_type": "code",
   "execution_count": 16,
   "metadata": {},
   "outputs": [],
   "source": [
    "import warnings\n",
    "warnings.simplefilter(\"ignore\")"
   ]
  },
  {
   "cell_type": "code",
   "execution_count": 48,
   "metadata": {},
   "outputs": [],
   "source": [
    "# Positive Comments\n",
    "pos1 = \"This video is fantastic! I learned so much. 👍\"\n",
    "pos2 = \"Great job! Keep up the excellent work. 😊\"\n",
    "pos3 = \"I love this content, very informative and well presented. 💯\"\n",
    "pos4 = \"Amazing content! Keep it up. 👏\"\n",
    "pos5 = \"This video was a joy to watch. Excellent work! 🌟\"\n",
    "\n",
    "# Negative Comments\n",
    "neg1 = \"This video is terrible. I didn't learn anything. 👎\"\n",
    "neg2 = \"I don't like the way this was explained. 😡\"\n",
    "neg3 = \"Waste of time, very disappointing. 😞\"\n",
    "neg4 = \"This video was frustrating to watch. 😠\"\n",
    "neg5 = \"Completely useless content, didn't learn anything new. 😒\"\n",
    "\n",
    "# Neutral Comments\n",
    "neu1 = \"This video is okay, nothing special. 🤷\"\n",
    "neu2 = \"I have mixed feelings about this content. 😐\"\n",
    "neu3 = \"It's an average video, could be better. 😕\"\n",
    "neu4 = \"Some parts were good, some were not. 😶\"\n",
    "neu5 = \"Didn't feel anything special watching this video. 😑\""
   ]
  },
  {
   "cell_type": "code",
   "execution_count": 71,
   "metadata": {},
   "outputs": [
    {
     "name": "stdout",
     "output_type": "stream",
     "text": [
      "Sentiment: Negative, Confidence: 0.55\n"
     ]
    }
   ],
   "source": [
    "pred = predict_sentiment(neg5)\n",
    "print(f\"Sentiment: {pred[0]}, Confidence: {pred[1]:.2f}\")"
   ]
  },
  {
   "cell_type": "code",
   "execution_count": 41,
   "metadata": {},
   "outputs": [],
   "source": [
    "# Positive Comments\n",
    "pos1 = \"Yeh video bahut accha hai! Maine bahut kuch seekha. 👍\"\n",
    "pos2 = \"Great job! Aise hi kaam karte raho. 😊\"\n",
    "pos3 = \"Mujhe yeh content bahut pasand aaya, bahut informative aur achhe se present kiya gaya. 💯\"\n",
    "pos4 = \"Amazing content! Keep it up. 👏\"\n",
    "pos5 = \"Yeh video dekh kar maza aa gaya. Excellent work! 🌟\"\n",
    "\n",
    "# Negative Comments\n",
    "neg1 = \"Yeh video bakwas hai. Mujhe kuch bhi nahi samajh aaya. 👎\"\n",
    "neg2 = \"Mujhe yeh explanation bilkul pasand nahi aayi. 😡\"\n",
    "neg3 = \"Time waste, bahut disappointing. 😞\"\n",
    "neg4 = \"Yeh video dekh kar frustration ho gaya. 😠\"\n",
    "neg5 = \"Bilkul bekaar content, kuch bhi naya nahi seekha. 😒\"\n",
    "\n",
    "# Neutral Comments\n",
    "neu1 = \"Yeh video theek thaak hai, kuch khaas nahi. 🤷\"\n",
    "neu2 = \"Mere mixed feelings hain is content ke baare mein. 😐\"\n",
    "neu3 = \"Average video, aur better ho sakta tha. 😕\"\n",
    "neu4 = \"Kuch parts achhe the, kuch nahi. 😶\"\n",
    "neu5 = \"Yeh video dekh kar kuch khaas feel nahi aaya. 😑\""
   ]
  },
  {
   "cell_type": "code",
   "execution_count": 89,
   "metadata": {},
   "outputs": [
    {
     "name": "stdout",
     "output_type": "stream",
     "text": [
      "Sentiment: Positive, Confidence: 0.98\n"
     ]
    }
   ],
   "source": [
    "pred = predict_sentiment(pos5)\n",
    "print(f\"Sentiment: {pred[0]}, Confidence: {pred[1]:.2f}\")"
   ]
  },
  {
   "cell_type": "markdown",
   "metadata": {},
   "source": [
    "### Takeaways from the model\n",
    "- The model is able to predict Postive sentiments in English and Hindi with high accuracy.\n",
    "- The model is able to predict Negative sentiments in English and Hindi with good accuracy.\n",
    "- However, the model is struggling to predict neutral sentiments, either they predict them as positive or negative.\n",
    "- This could be due to overall quality of dataset"
   ]
  }
 ],
 "metadata": {
  "kernelspec": {
   "display_name": ".venv",
   "language": "python",
   "name": "python3"
  },
  "language_info": {
   "codemirror_mode": {
    "name": "ipython",
    "version": 3
   },
   "file_extension": ".py",
   "mimetype": "text/x-python",
   "name": "python",
   "nbconvert_exporter": "python",
   "pygments_lexer": "ipython3",
   "version": "3.12.3"
  }
 },
 "nbformat": 4,
 "nbformat_minor": 2
}
